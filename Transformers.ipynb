{
  "cells": [
    {
      "cell_type": "code",
      "source": [
        "import torch, math\n",
        "from torch import nn"
      ],
      "metadata": {
        "id": "UFJByWV8e8Kw"
      },
      "execution_count": null,
      "outputs": []
    },
    {
      "cell_type": "code",
      "source": [
        "class input_embeddings(nn.Module):\n",
        "\n",
        "  def __init__(self,\n",
        "               d_model,\n",
        "               vocab_size):\n",
        "    super().__init__()\n",
        "    self.d_model = d_model\n",
        "    self.vocab_size = vocab_size\n",
        "    self.embeddings = nn.Embedding(vocab_size, d_model)\n",
        "\n",
        "  def forward(self, x):\n",
        "    return self.embeddings(x) * math.sqrt(self.d_model)"
      ],
      "metadata": {
        "id": "VfelugxqfEaT"
      },
      "execution_count": null,
      "outputs": []
    },
    {
      "cell_type": "code",
      "source": [
        "class positional_encoding(nn.Module):\n",
        "\n",
        "  def __init__(self,\n",
        "               d_model,\n",
        "               seq_len,\n",
        "               dropout):\n",
        "    super().__init__()\n",
        "    self.d_model = d_model\n",
        "    self.seq_len = seq_len\n",
        "    self.dropout = nn.Dropout(dropout)\n",
        "    positional_encoding = torch.zeros(seq_len, d_model)\n",
        "    positions = torch.arange(0, seq_len, dtype= torch.float).unsqueeze(1)\n",
        "    divide = torch.exp(torch.arange(0, d_model, 2).float()*(-math.log(10000.0/d_model)))\n",
        "    positional_encoding[:,0::2] = torch.sin(positions*divide)\n",
        "    positional_encoding[:, 1::2] = torch.cos(positions*divide)\n",
        "    positional_encoding = positional_encoding.unsqueeze(0)\n",
        "\n",
        "    self.register_buffer('positional_encoding', positional_encoding)\n",
        "\n",
        "  def forward(self, x):\n",
        "    x = x + (self.positional_encoding[:, :x.shape[1], :]).requires_grad_(False)\n",
        "    return self.dropout(x)"
      ],
      "metadata": {
        "id": "pB_W5AHEfmRL"
      },
      "execution_count": null,
      "outputs": []
    },
    {
      "cell_type": "code",
      "source": [
        "class layer_normalization(nn.Module):\n",
        "\n",
        "  def __init__(self, eps=10e-6):\n",
        "    super().__init__()\n",
        "    self.eps = eps\n",
        "    self.alpha = nn.Parameter(torch.ones(1))\n",
        "    self.bias = nn.Parameter(torch.zeros(1))\n",
        "\n",
        "  def forward(self, x):\n",
        "    mean = x.mean(dim=-1, keepdim=True)\n",
        "    std = x.std(dim=-1, keepdim=True)\n",
        "\n",
        "    return self.alpha*(x-mean)/(std+self.eps) + self.bias"
      ],
      "metadata": {
        "id": "X2NLgqOgkppl"
      },
      "execution_count": null,
      "outputs": []
    },
    {
      "cell_type": "code",
      "source": [
        "class feed_forward_block(nn.Module):\n",
        "\n",
        "  def __init__(self,\n",
        "               d_model,\n",
        "               d_ff,\n",
        "               dropout):\n",
        "    super().__init__()\n",
        "    self.linear_1 = nn.Linear(d_model, d_ff)\n",
        "    self.dropout = nn.Dropout(dropout)\n",
        "    self.linear_2 = nn.Linear(d_ff, d_model)\n",
        "\n",
        "  def forward(self, x):\n",
        "    return self.linear_2(self.dropout(self.relu(self.linear_1(x))))"
      ],
      "metadata": {
        "id": "yTbdolDxlUWR"
      },
      "execution_count": null,
      "outputs": []
    },
    {
      "cell_type": "code",
      "source": [
        "class multi_head_attention(nn.Module):\n",
        "\n",
        "  def __init__(self,\n",
        "               d_model,\n",
        "               h,\n",
        "               dropout):\n",
        "    super().__init__()\n",
        "    self.d_model = d_model\n",
        "    self.h = h\n",
        "\n",
        "    assert d_model%h==0, 'Division Error'\n",
        "\n",
        "    self.d_k = d_model//h\n",
        "\n",
        "    self.w_q = nn.Linear(d_model, d_model)\n",
        "    self.w_k = nn.Linear(d_model, d_model)\n",
        "    self.w_v = nn.Linear(d_model, d_model)\n",
        "    self.w_o = nn.Linear(d_model, d_model)\n",
        "    self.dropout = nn.Dropout(dropout)\n",
        "\n",
        "    @staticmethod\n",
        "    def attention(query,\n",
        "                  key,\n",
        "                  value,\n",
        "                  mask,\n",
        "                  dropout):\n",
        "      d_k = query.shape[-1]\n",
        "      attention_scores = (query@key.transpose(-2,-1))//math.sqrt(d_k)\n",
        "\n",
        "      if mask is not None:\n",
        "        attention_scores.masked_fill_(mask == 0, -1e9)\n",
        "\n",
        "      attention_scores = attention_scores.softmax(dim=-1)\n",
        "\n",
        "      if dropout is not None:\n",
        "        attention_scores = dropout(attention_scores)\n",
        "\n",
        "      return (attention_scores@value), attention_scores\n",
        "\n",
        "    def forward(self,\n",
        "                q, k, v,\n",
        "                mask):\n",
        "      query = self.w_q(q)\n",
        "      key = self.w_k(k)\n",
        "      value = self.v_k(v)\n",
        "\n",
        "      query = query.view(query.shape[0], query.shape[1], self.h, self.d_k).transpose(1,2)\n",
        "      key = key.view(key.shape[0], key.shape[1], self.h, self.d_k).transpose(1,2)\n",
        "      value = value.view(value.shape[0], value.shape[1], self.h, self.d_k).tranpose(1,2)\n",
        "\n",
        "      x, self.attention_scores = multi_head_attention.attention(query, key, value, mask, self.dropout)\n",
        "\n",
        "      x = x.tranpose(1,2).contiguous().view(x.shape[0], -1, self.h, self.d_k)\n",
        "\n",
        "      return self.w_o(x)"
      ],
      "metadata": {
        "id": "p5_jrDQBl5lL"
      },
      "execution_count": null,
      "outputs": []
    },
    {
      "cell_type": "code",
      "source": [
        "class residual_connection(nn.Module):\n",
        "  def __init__(self, dropout):\n",
        "    super().__init__()\n",
        "    self.dropout = nn.Dropout(dropout)\n",
        "    self.norm = layer_normalization()\n",
        "\n",
        "  def forward(self, x, sub_layer):\n",
        "    return x+self.dropout(sub_layer(self.norm(x)))"
      ],
      "metadata": {
        "id": "vygrSQ3koqNp"
      },
      "execution_count": null,
      "outputs": []
    },
    {
      "cell_type": "code",
      "source": [
        "class encoder_block(nn.Module):\n",
        "\n",
        "  def __init__(self,\n",
        "               self_attention_block: multi_head_attention,\n",
        "               feed_forward_block_: feed_forward_block,\n",
        "               dropout):\n",
        "    super().__init__()\n",
        "    self.self_attention_block = self_attention_block\n",
        "    self.feed_forward_bl = feed_forward_block_\n",
        "    self.residual_connections = nn.ModuleList([residual_connection(dropout) for _ in range(2)])\n",
        "\n",
        "  def forward(self, x, src_mask):\n",
        "    x = self.residual_connections[0](x, lambda x: self.self_attention_block(x, x, x, src_mask))\n",
        "\n",
        "    x = self.residual_connections[1](x, self.feed_forward_bl)\n",
        "    return x"
      ],
      "metadata": {
        "id": "ltn-puWfpOAJ"
      },
      "execution_count": null,
      "outputs": []
    },
    {
      "cell_type": "code",
      "source": [
        "class encoder(nn.Module):\n",
        "  def __init__(self, layers:nn.ModuleList):\n",
        "    super().__init__()\n",
        "    self.layers = layers\n",
        "    self.norm = layer_normalization()\n",
        "\n",
        "  def forward(self, x, mask):\n",
        "    for layer in self.layers:\n",
        "      x = layer(x, mask)\n",
        "      return self.norm(x)"
      ],
      "metadata": {
        "id": "5eaI7rx7qXTW"
      },
      "execution_count": null,
      "outputs": []
    },
    {
      "cell_type": "code",
      "source": [
        "class decoder_block(nn.Module):\n",
        "\n",
        "  def __init__(self,\n",
        "               self_attention_block: multi_head_attention,\n",
        "               cross_attention_block: multi_head_attention,\n",
        "               feed_forward: feed_forward_block,\n",
        "               dropout):\n",
        "    super().__init__()\n",
        "    self.self_attention_block = self_attention_block\n",
        "    self.cross_attention_block = cross_attention_block\n",
        "    self.feed_forward = feed_forward\n",
        "    self.residual_connections = nn.ModuleList([residual_connection(dropout) for _ in range(3)])\n",
        "\n",
        "  def forward(self, x, encoder_output, src_mask, tgt_mask):\n",
        "    x = self.residual_connections[0](x, lambda x: self.self_attention_block(x, x, x, tgt_mask))\n",
        "    x = self.residual_connections[1](x, lambda x: self.cross_attention_block(x, encoder_output, encoder_output, src_mask))\n",
        "    x = self.residual_connections[2](x, self.feed_forward)\n",
        "    return x"
      ],
      "metadata": {
        "id": "OD5kA0o6qvFt"
      },
      "execution_count": null,
      "outputs": []
    },
    {
      "cell_type": "code",
      "source": [
        "class decoder(nn.Module):\n",
        "  def __init__(self, layers:  nn.ModuleList):\n",
        "    super().__init__()\n",
        "    self.layers = layers\n",
        "    self.norm = layer_normalization()\n",
        "\n",
        "  def forward(self, x,\n",
        "              encoder_output,\n",
        "              src_mask,\n",
        "              tgt_mask):\n",
        "    for layer in self.layers:\n",
        "      x = layer(x, encoder_output, src_mask, tgt_mask)\n",
        "    return self.norm(x)"
      ],
      "metadata": {
        "id": "tatdhf0U7AEO"
      },
      "execution_count": null,
      "outputs": []
    },
    {
      "cell_type": "code",
      "source": [
        "class projection_layer(nn.Module):\n",
        "  def __init__(self, d_model, vocab_size):\n",
        "    super().__init__()\n",
        "    self.project = nn.Linear(d_model, vocab_size)\n",
        "\n",
        "  def forward(self, x):\n",
        "    return torch.log_softmax(self.project(x), dim=-1)"
      ],
      "metadata": {
        "id": "Ptc0kvmp7hwu"
      },
      "execution_count": null,
      "outputs": []
    },
    {
      "cell_type": "code",
      "source": [
        "class transformer(nn.Module):\n",
        "\n",
        "  def __init__(self,\n",
        "               encoder,\n",
        "               decoder,\n",
        "               src_embed,\n",
        "               tgt_embed,\n",
        "               src_pos,\n",
        "               tgt_pos,\n",
        "               projection_layer):\n",
        "    super().__init__()\n",
        "    self.encoder = encoder\n",
        "    self.decoder = decoder\n",
        "    self.src_embed = src_embed\n",
        "    self.tgt_embed = tgt_embed\n",
        "    self.src_pos = src_pos\n",
        "    self.tgt_pos = tgt_pos\n",
        "    self.projection_layer = projection_layer\n",
        "\n",
        "  def encode(self, src, src_mask):\n",
        "    src = self.src_embed(src)\n",
        "    src = self.src_pos(src)\n",
        "    return self.encoder(src, src_mask)\n",
        "\n",
        "  def decode(self, encoder_output, src_mask, tgt, tgt_mask):\n",
        "    tgt = self.tgt_embed(tgt)\n",
        "    tgt = self.tgt_pos(tgt)\n",
        "    return self.decoder(tgt, encoder_output, src_mask, tgt_mask)\n",
        "\n",
        "  def project(self, x):\n",
        "    return self.projection_layer(x)"
      ],
      "metadata": {
        "id": "da10g80_78gJ"
      },
      "execution_count": null,
      "outputs": []
    },
    {
      "cell_type": "code",
      "source": [
        "def build_transformer(src_vocab_size,\n",
        "                      tgt_vocab_size,\n",
        "                      src_seq_len,\n",
        "                      tgt_seq_len,\n",
        "                      d_model=512,\n",
        "                      N=6,\n",
        "                      h=8, dropout=.1,\n",
        "                      d_ff=2048):\n",
        "  src_embed = input_embeddings(d_model, src_vocab_size)\n",
        "  tgt_embed = input_embeddings(d_model, tgt_vocab_size)\n",
        "  src_pos = positional_encoding(d_model, src_seq_len, dropout)\n",
        "  tgt_pos = positional_encoding(d_model, tgt_seq_len, dropout)\n",
        "\n",
        "  encoder_blocks = []\n",
        "  for _ in range(N):\n",
        "    encoder_self_attention = multi_head_attention(d_model, h, dropout)\n",
        "    feed_forward = feed_forward_block(d_model, d_ff, dropout)\n",
        "    encoder_block_ = encoder_block(encoder_self_attention, feed_forward, dropout)\n",
        "    encoder_blocks.append(encoder_block_)\n",
        "\n",
        "  decoder_blocks = []\n",
        "  for _ in range(N):\n",
        "    decoder_self_attention = multi_head_attention(d_model, h, dropout)\n",
        "    decoder_cross_attention = multi_head_attention(d_model, h, dropout)\n",
        "    feed_forward = feed_forward_block(d_model, d_ff, dropout)\n",
        "    decoder_block_ = decoder_block(decoder_self_attention, decoder_cross_attention, feed_forward, dropout)\n",
        "    decoder_blocks.append(decoder_block_)\n",
        "\n",
        "  encoder_ = encoder(nn.ModuleList(encoder_blocks))\n",
        "  decoder_ = decoder(nn.ModuleList(decoder_blocks))\n",
        "  projection = projection_layer(d_model, tgt_vocab_size)\n",
        "\n",
        "  transformer_build = transformer(encoder_, decoder_, src_embed, tgt_embed, src_pos, tgt_pos, projection)\n",
        "\n",
        "  for parameter in transformer_build.parameters():\n",
        "    if parameter.dim()>1:\n",
        "      nn.init.xavier_uniform_(parameter)\n",
        "\n",
        "  return transformer_build"
      ],
      "metadata": {
        "id": "O3URREui9D6o"
      },
      "execution_count": null,
      "outputs": []
    },
    {
      "cell_type": "code",
      "source": [
        "basic_config = {\n",
        "    'seq_len': 350,\n",
        "    'd_model': 512,\n",
        "    'lang_src': 'en',\n",
        "    'lang_tgt': 'it',\n",
        "    'batch_size': 8,\n",
        "    'num_epochs': 20,\n",
        "    'lr': 1e-4\n",
        "}"
      ],
      "metadata": {
        "id": "abrSGiQYCfU1"
      },
      "execution_count": null,
      "outputs": []
    },
    {
      "cell_type": "code",
      "source": [
        "transformer = build_transformer(512, 512, 350, 350)"
      ],
      "metadata": {
        "id": "vl2h0JH3EisQ"
      },
      "execution_count": null,
      "outputs": []
    }
  ],
  "metadata": {
    "colab": {
      "provenance": []
    },
    "kernelspec": {
      "display_name": "Python 3",
      "name": "python3"
    }
  },
  "nbformat": 4,
  "nbformat_minor": 0
}